{
 "cells": [
  {
   "cell_type": "code",
   "execution_count": 1,
   "metadata": {},
   "outputs": [],
   "source": [
    "# utility functions"
   ]
  },
  {
   "cell_type": "code",
   "execution_count": null,
   "metadata": {},
   "outputs": [],
   "source": [
    "import numpy as np\n",
    "import glob\n",
    "from keras.preprocessing import image\n",
    "from keras.applications.imagenet_utils import preprocess_input\n"
   ]
  },
  {
   "cell_type": "code",
   "execution_count": 2,
   "metadata": {},
   "outputs": [],
   "source": [
    "def convert_to_one_hot(Y, C):\n",
    "    Y = np.eye(C)[Y.reshape(-1)].T\n",
    "    return Y"
   ]
  },
  {
   "cell_type": "code",
   "execution_count": 7,
   "metadata": {},
   "outputs": [],
   "source": [
    "def loading_dataset(folderpath, classes, train_pct = 0.8, verbose = False):\n",
    "    \n",
    "    images_data = []\n",
    "    labels = []\n",
    "    \n",
    "    for iclass,class_name in enumerate(classes):\n",
    "        this_folder = folderpath + class_name\n",
    "        sub_images = glob.glob(this_folder + '/*')\n",
    "        for image_path in sub_images:\n",
    "            if verbose:\n",
    "                print('reading %s with label %s' % (image_path, classes[iclass]))\n",
    "            img = image.load_img(image_path, target_size=(224, 224))\n",
    "            x = image.img_to_array(img)\n",
    "            #x = preprocess_input(x)\n",
    "            images_data.append(x)\n",
    "            labels.append(iclass)\n",
    "    \n",
    "    images_data = np.array(images_data)\n",
    "    labels = np.array(labels)\n",
    "    \n",
    "    m = images_data.shape[0]\n",
    "    permuted_index = np.random.permutation(m)\n",
    "    split_m = int(np.ceil(m*train_pct))\n",
    "\n",
    "    train_ind = list(permuted_index[0:split_m])\n",
    "    test_ind = list(permuted_index[split_m:])\n",
    "\n",
    "    x_train, y_train = images_data[train_ind], labels[train_ind]\n",
    "    x_test,  y_test  = images_data[test_ind],  labels[test_ind]\n",
    "    \n",
    "    return x_train, y_train, x_test, y_test"
   ]
  },
  {
   "cell_type": "code",
   "execution_count": 6,
   "metadata": {},
   "outputs": [],
   "source": [
    "def evaluate_model(model, X_train, Y_train, X_test, Y_test, maxItem = 100):\n",
    "    #test model on training data set and testing data set\n",
    "    nTrain = min([maxItem, X_train.shape[0]])\n",
    "    print('Performance on Training data set (%d)' % nTrain)\n",
    "    preds = model.evaluate(X_train[0:nTrain], Y_train[0:nTrain])\n",
    "    print (\"Loss = \" + str(preds[0]))\n",
    "    print (\"Train Accuracy = \" + str(preds[1]))\n",
    "\n",
    "    nTest = min([maxItem, X_test.shape[0]])\n",
    "    print('Performance on Testing data set (%d)' % nTest)\n",
    "    preds = model.evaluate(X_test[0:nTest], Y_test[0:nTest])\n",
    "    print (\"Loss = \" + str(preds[0]))\n",
    "    print (\"Test Accuracy = \" + str(preds[1]))"
   ]
  },
  {
   "cell_type": "code",
   "execution_count": null,
   "metadata": {},
   "outputs": [],
   "source": []
  }
 ],
 "metadata": {
  "kernelspec": {
   "display_name": "Python 3",
   "language": "python",
   "name": "python3"
  },
  "language_info": {
   "codemirror_mode": {
    "name": "ipython",
    "version": 3
   },
   "file_extension": ".py",
   "mimetype": "text/x-python",
   "name": "python",
   "nbconvert_exporter": "python",
   "pygments_lexer": "ipython3",
   "version": "3.6.4"
  }
 },
 "nbformat": 4,
 "nbformat_minor": 2
}
